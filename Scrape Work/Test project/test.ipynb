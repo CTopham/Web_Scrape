{
 "cells": [
  {
   "cell_type": "code",
   "execution_count": 1,
   "metadata": {},
   "outputs": [],
   "source": [
    "import time\n",
    "from splinter import Browser\n",
    "from bs4 import BeautifulSoup\n",
    "import pandas as pd\n",
    "from selenium import webdriver\n",
    "\n",
    "\n",
    "def init_browser():\n",
    "    # @NOTE: Replace the path with your actual path to the chromedriver\n",
    "    executable_path = {\"executable_path\": \"/usr/local/bin/chromedriver\"}\n",
    "    return Browser(\"chrome\", **executable_path, headless=False)\n",
    "\n",
    "\n",
    "def scrape():\n",
    "    browser = init_browser()\n",
    "    listings = {}\n",
    "\n",
    "    url = \"https://raleigh.craigslist.org/search/hhh?max_price=1500&availabilityMode=0\"\n",
    "    browser.visit(url)\n",
    "    time.sleep(1)\n",
    "\n",
    "    html = browser.html\n",
    "    soup = BeautifulSoup(html, \"html.parser\")\n",
    "\n",
    "    listings[\"headline\"] = soup.find(\"a\", class_=\"result-title\").get_text()\n",
    "    listings[\"price\"] = soup.find(\"span\", class_=\"result-price\").get_text()\n",
    "    listings[\"hood\"] = soup.find(\"span\", class_=\"result-hood\").get_text()\n",
    "\n",
    "    return listings\n"
   ]
  },
  {
   "cell_type": "code",
   "execution_count": 1,
   "metadata": {},
   "outputs": [],
   "source": [
    "import time\n",
    "from splinter import Browser\n",
    "from bs4 import BeautifulSoup\n",
    "from selenium import webdriver\n",
    "\n",
    "def init_browser():\n",
    "    executable_path = {'executable_path': r'C:\\Users\\Craig\\Desktop\\chromedriver.exe'}\n",
    "    return Browser(\"chrome\", **executable_path, headless=False)\n",
    "\n",
    "all_images = []\n",
    "    \n",
    "browser = init_browser()\n",
    "images_website = \"https://www.pexels.com/\"\n",
    "browser.visit(images_website)\n",
    "time.sleep(2)\n",
    "html = browser.html\n",
    "img_soup = BeautifulSoup(html, \"html.parser\")\n",
    "container = img_soup.find(\"div\", {\"class\": \"photos\"})\n",
    "all_Images = container.find_all('img')"
   ]
  },
  {
   "cell_type": "code",
   "execution_count": 3,
   "metadata": {},
   "outputs": [
    {
     "data": {
      "text/plain": [
       "[<img class=\"hidden\" height=\"350\" width=\"240\"/>,\n",
       " <img alt=\"\" border=\"0\" height=\"100\" src=\"https://cdn4.buysellads.net/uu/1/3386/1524933428-carbonad_girl.jpg\" style=\"max-width: 130px;\" width=\"130\"/>,\n",
       " <img alt=\"Highway In The Middle Of the Forrest\" class=\"photo-item__img\" data-big-src=\"https://images.pexels.com/photos/753873/pexels-photo-753873.jpeg?auto=compress&amp;cs=tinysrgb&amp;h=750&amp;w=1260\" data-large-src=\"https://images.pexels.com/photos/753873/pexels-photo-753873.jpeg?auto=compress&amp;cs=tinysrgb&amp;h=650&amp;w=940\" data-pin-media=\"https://images.pexels.com/photos/753873/pexels-photo-753873.jpeg?auto=compress&amp;cs=tinysrgb&amp;fit=crop&amp;h=1200&amp;w=800\" height=\"350\" src=\"https://images.pexels.com/photos/753873/pexels-photo-753873.jpeg?auto=compress&amp;cs=tinysrgb&amp;h=350\" srcset=\"https://images.pexels.com/photos/753873/pexels-photo-753873.jpeg?auto=compress&amp;cs=tinysrgb&amp;h=350 1x, https://images.pexels.com/photos/753873/pexels-photo-753873.jpeg?auto=compress&amp;cs=tinysrgb&amp;dpr=2&amp;h=350 2x\" style=\"background:rgb(42,57,34)\" width=\"623\"/>,\n",
       " <img alt=\"Stephan muller 296\" class=\"photo-item__avatar\" height=\"30\" src=\"https://images.pexels.com/users/avatars/248559/stephan-muller-296.jpeg?w=60&amp;h=60&amp;fit=crop&amp;crop=faces\" width=\"30\"/>,\n",
       " <img alt=\"Woman in White Top and Black Distress Jeans\" class=\"photo-item__img\" data-big-src=\"https://images.pexels.com/photos/704994/pexels-photo-704994.jpeg?auto=compress&amp;cs=tinysrgb&amp;h=750&amp;w=1260\" data-large-src=\"https://images.pexels.com/photos/704994/pexels-photo-704994.jpeg?auto=compress&amp;cs=tinysrgb&amp;h=650&amp;w=940\" data-pin-media=\"https://images.pexels.com/photos/704994/pexels-photo-704994.jpeg?auto=compress&amp;cs=tinysrgb&amp;fit=crop&amp;h=1200&amp;w=800\" height=\"350\" src=\"https://images.pexels.com/photos/704994/pexels-photo-704994.jpeg?auto=compress&amp;cs=tinysrgb&amp;h=350\" srcset=\"https://images.pexels.com/photos/704994/pexels-photo-704994.jpeg?auto=compress&amp;cs=tinysrgb&amp;h=350 1x, https://images.pexels.com/photos/704994/pexels-photo-704994.jpeg?auto=compress&amp;cs=tinysrgb&amp;dpr=2&amp;h=350 2x\" style=\"background:rgb(47,45,42)\" width=\"468\"/>,\n",
       " <img alt=\"Daria shevtsova 140\" class=\"photo-item__avatar\" height=\"30\" src=\"https://images.pexels.com/users/avatars/220024/daria-shevtsova-140.jpeg?w=60&amp;h=60&amp;fit=crop&amp;crop=faces\" width=\"30\"/>,\n",
       " <img alt=\"Green Leafed Plant\" class=\"photo-item__img\" data-big-src=\"https://images.pexels.com/photos/212932/pexels-photo-212932.jpeg?auto=compress&amp;cs=tinysrgb&amp;h=750&amp;w=1260\" data-large-src=\"https://images.pexels.com/photos/212932/pexels-photo-212932.jpeg?auto=compress&amp;cs=tinysrgb&amp;h=650&amp;w=940\" data-pin-media=\"https://images.pexels.com/photos/212932/pexels-photo-212932.jpeg?auto=compress&amp;cs=tinysrgb&amp;fit=crop&amp;h=1200&amp;w=800\" height=\"350\" src=\"https://images.pexels.com/photos/212932/pexels-photo-212932.jpeg?auto=compress&amp;cs=tinysrgb&amp;h=350\" srcset=\"https://images.pexels.com/photos/212932/pexels-photo-212932.jpeg?auto=compress&amp;cs=tinysrgb&amp;h=350 1x, https://images.pexels.com/photos/212932/pexels-photo-212932.jpeg?auto=compress&amp;cs=tinysrgb&amp;dpr=2&amp;h=350 2x\" style=\"background:rgb(44,53,46)\" width=\"525\"/>,\n",
       " <img alt=\"Scott webb 462\" class=\"photo-item__avatar\" height=\"30\" src=\"https://images.pexels.com/users/avatars/39047/scott-webb-462.jpeg?w=60&amp;h=60&amp;fit=crop&amp;crop=faces\" width=\"30\"/>,\n",
       " <img alt=\"Woman Sitting on the Pavement\" class=\"photo-item__img\" data-big-src=\"https://images.pexels.com/photos/701747/pexels-photo-701747.jpeg?auto=compress&amp;cs=tinysrgb&amp;h=750&amp;w=1260\" data-large-src=\"https://images.pexels.com/photos/701747/pexels-photo-701747.jpeg?auto=compress&amp;cs=tinysrgb&amp;h=650&amp;w=940\" data-pin-media=\"https://images.pexels.com/photos/701747/pexels-photo-701747.jpeg?auto=compress&amp;cs=tinysrgb&amp;fit=crop&amp;h=1200&amp;w=800\" height=\"350\" src=\"https://images.pexels.com/photos/701747/pexels-photo-701747.jpeg?auto=compress&amp;cs=tinysrgb&amp;h=350\" srcset=\"https://images.pexels.com/photos/701747/pexels-photo-701747.jpeg?auto=compress&amp;cs=tinysrgb&amp;h=350 1x, https://images.pexels.com/photos/701747/pexels-photo-701747.jpeg?auto=compress&amp;cs=tinysrgb&amp;dpr=2&amp;h=350 2x\" style=\"background:rgb(61,43,42)\" width=\"525\"/>,\n",
       " <img alt=\"Kristina paukshtite 535\" class=\"photo-item__avatar\" height=\"30\" src=\"https://images.pexels.com/users/avatars/28319/kristina-paukshtite-535.png?w=60&amp;h=60&amp;fit=crop&amp;crop=faces\" width=\"30\"/>,\n",
       " <img alt=\"Herd Of Brown And White Cows On Green Grass Field\" class=\"photo-item__img\" data-big-src=\"https://images.pexels.com/photos/753868/pexels-photo-753868.jpeg?auto=compress&amp;cs=tinysrgb&amp;h=750&amp;w=1260\" data-large-src=\"https://images.pexels.com/photos/753868/pexels-photo-753868.jpeg?auto=compress&amp;cs=tinysrgb&amp;h=650&amp;w=940\" data-pin-media=\"https://images.pexels.com/photos/753868/pexels-photo-753868.jpeg?auto=compress&amp;cs=tinysrgb&amp;fit=crop&amp;h=1200&amp;w=800\" height=\"350\" src=\"https://images.pexels.com/photos/753868/pexels-photo-753868.jpeg?auto=compress&amp;cs=tinysrgb&amp;h=350\" srcset=\"https://images.pexels.com/photos/753868/pexels-photo-753868.jpeg?auto=compress&amp;cs=tinysrgb&amp;h=350 1x, https://images.pexels.com/photos/753868/pexels-photo-753868.jpeg?auto=compress&amp;cs=tinysrgb&amp;dpr=2&amp;h=350 2x\" style=\"background:rgb(59,79,8)\" width=\"623\"/>,\n",
       " <img alt=\"Stephan muller 296\" class=\"photo-item__avatar\" height=\"30\" src=\"https://images.pexels.com/users/avatars/248559/stephan-muller-296.jpeg?w=60&amp;h=60&amp;fit=crop&amp;crop=faces\" width=\"30\"/>,\n",
       " <img alt=\"Woman in Brown Scarf Surrounded With Green Trees\" class=\"photo-item__img\" data-big-src=\"https://images.pexels.com/photos/713071/pexels-photo-713071.jpeg?auto=compress&amp;cs=tinysrgb&amp;h=750&amp;w=1260\" data-large-src=\"https://images.pexels.com/photos/713071/pexels-photo-713071.jpeg?auto=compress&amp;cs=tinysrgb&amp;h=650&amp;w=940\" data-pin-media=\"https://images.pexels.com/photos/713071/pexels-photo-713071.jpeg?auto=compress&amp;cs=tinysrgb&amp;fit=crop&amp;h=1200&amp;w=800\" height=\"350\" src=\"https://images.pexels.com/photos/713071/pexels-photo-713071.jpeg?auto=compress&amp;cs=tinysrgb&amp;h=350\" srcset=\"https://images.pexels.com/photos/713071/pexels-photo-713071.jpeg?auto=compress&amp;cs=tinysrgb&amp;h=350 1x, https://images.pexels.com/photos/713071/pexels-photo-713071.jpeg?auto=compress&amp;cs=tinysrgb&amp;dpr=2&amp;h=350 2x\" style=\"background:rgb(53,48,45)\" width=\"525\"/>,\n",
       " <img alt=\"Tobi dami 228\" class=\"photo-item__avatar\" height=\"30\" src=\"https://images.pexels.com/users/avatars/153731/tobi-dami-228.jpeg?w=60&amp;h=60&amp;fit=crop&amp;crop=faces\" width=\"30\"/>,\n",
       " <img alt=\"Body of Water Near Orange and Green Leaf Trees\" class=\"photo-item__img\" data-big-src=\"https://images.pexels.com/photos/217120/pexels-photo-217120.jpeg?auto=compress&amp;cs=tinysrgb&amp;h=750&amp;w=1260\" data-large-src=\"https://images.pexels.com/photos/217120/pexels-photo-217120.jpeg?auto=compress&amp;cs=tinysrgb&amp;h=650&amp;w=940\" data-pin-media=\"https://images.pexels.com/photos/217120/pexels-photo-217120.jpeg?auto=compress&amp;cs=tinysrgb&amp;fit=crop&amp;h=1200&amp;w=800\" height=\"350\" src=\"https://images.pexels.com/photos/217120/pexels-photo-217120.jpeg?auto=compress&amp;cs=tinysrgb&amp;h=350\" srcset=\"https://images.pexels.com/photos/217120/pexels-photo-217120.jpeg?auto=compress&amp;cs=tinysrgb&amp;h=350 1x, https://images.pexels.com/photos/217120/pexels-photo-217120.jpeg?auto=compress&amp;cs=tinysrgb&amp;dpr=2&amp;h=350 2x\" style=\"background:rgb(66,54,44)\" width=\"525\"/>,\n",
       " <img alt=\"Puscau daniel florin 981\" class=\"photo-item__avatar\" height=\"30\" src=\"https://images.pexels.com/users/avatars/60408/puscau-daniel-florin-981.jpeg?w=60&amp;h=60&amp;fit=crop&amp;crop=faces\" width=\"30\"/>,\n",
       " <img alt=\"Pink Carnation Flower and Pink Rose Flower in Clear Glass Vase Beside Mug of Coffee\" class=\"photo-item__img\" data-big-src=\"https://images.pexels.com/photos/1053764/pexels-photo-1053764.jpeg?auto=compress&amp;cs=tinysrgb&amp;h=750&amp;w=1260\" data-large-src=\"https://images.pexels.com/photos/1053764/pexels-photo-1053764.jpeg?auto=compress&amp;cs=tinysrgb&amp;h=650&amp;w=940\" data-pin-media=\"https://images.pexels.com/photos/1053764/pexels-photo-1053764.jpeg?auto=compress&amp;cs=tinysrgb&amp;fit=crop&amp;h=1200&amp;w=800\" height=\"350\" src=\"https://images.pexels.com/photos/1053764/pexels-photo-1053764.jpeg?auto=compress&amp;cs=tinysrgb&amp;h=350\" srcset=\"https://images.pexels.com/photos/1053764/pexels-photo-1053764.jpeg?auto=compress&amp;cs=tinysrgb&amp;h=350 1x, https://images.pexels.com/photos/1053764/pexels-photo-1053764.jpeg?auto=compress&amp;cs=tinysrgb&amp;dpr=2&amp;h=350 2x\" style=\"background:rgb(75,71,65)\" width=\"525\"/>,\n",
       " <img alt=\"Lisa fotios 879\" class=\"photo-item__avatar\" height=\"30\" src=\"https://images.pexels.com/users/avatars/26735/lisa-fotios-879.jpeg?w=60&amp;h=60&amp;fit=crop&amp;crop=faces\" width=\"30\"/>,\n",
       " <img alt=\"Man In The Middle Of A Bridge\" class=\"photo-item__img\" data-big-src=\"https://images.pexels.com/photos/768235/pexels-photo-768235.jpeg?auto=compress&amp;cs=tinysrgb&amp;h=750&amp;w=1260\" data-large-src=\"https://images.pexels.com/photos/768235/pexels-photo-768235.jpeg?auto=compress&amp;cs=tinysrgb&amp;h=650&amp;w=940\" data-pin-media=\"https://images.pexels.com/photos/768235/pexels-photo-768235.jpeg?auto=compress&amp;cs=tinysrgb&amp;fit=crop&amp;h=1200&amp;w=800\" height=\"350\" src=\"https://images.pexels.com/photos/768235/pexels-photo-768235.jpeg?auto=compress&amp;cs=tinysrgb&amp;h=350\" srcset=\"https://images.pexels.com/photos/768235/pexels-photo-768235.jpeg?auto=compress&amp;cs=tinysrgb&amp;h=350 1x, https://images.pexels.com/photos/768235/pexels-photo-768235.jpeg?auto=compress&amp;cs=tinysrgb&amp;dpr=2&amp;h=350 2x\" style=\"background:rgb(62,65,89)\" width=\"524\"/>,\n",
       " <img alt=\"Trace constant 304\" class=\"photo-item__avatar\" height=\"30\" src=\"https://images.pexels.com/users/avatars/223030/trace-constant-304.jpeg?w=60&amp;h=60&amp;fit=crop&amp;crop=faces\" width=\"30\"/>,\n",
       " <img alt=\"Boat In The Middle Of The Ocean\" class=\"photo-item__img\" data-big-src=\"https://images.pexels.com/photos/638453/pexels-photo-638453.jpeg?auto=compress&amp;cs=tinysrgb&amp;h=750&amp;w=1260\" data-large-src=\"https://images.pexels.com/photos/638453/pexels-photo-638453.jpeg?auto=compress&amp;cs=tinysrgb&amp;h=650&amp;w=940\" data-pin-media=\"https://images.pexels.com/photos/638453/pexels-photo-638453.jpeg?auto=compress&amp;cs=tinysrgb&amp;fit=crop&amp;h=1200&amp;w=800\" height=\"350\" src=\"https://images.pexels.com/photos/638453/pexels-photo-638453.jpeg?auto=compress&amp;cs=tinysrgb&amp;h=350\" srcset=\"https://images.pexels.com/photos/638453/pexels-photo-638453.jpeg?auto=compress&amp;cs=tinysrgb&amp;h=350 1x, https://images.pexels.com/photos/638453/pexels-photo-638453.jpeg?auto=compress&amp;cs=tinysrgb&amp;dpr=2&amp;h=350 2x\" style=\"background:rgb(4,106,149)\" width=\"525\"/>,\n",
       " <img alt=\"Kai pilger 667\" class=\"photo-item__avatar\" height=\"30\" src=\"https://images.pexels.com/users/avatars/65982/kai-pilger-667.jpeg?w=60&amp;h=60&amp;fit=crop&amp;crop=faces\" width=\"30\"/>,\n",
       " <img alt=\"Gray Scale Photo of Topless Man Covering Face\" class=\"photo-item__img\" data-big-src=\"https://images.pexels.com/photos/235355/pexels-photo-235355.png?auto=compress&amp;cs=tinysrgb&amp;h=750&amp;w=1260\" data-large-src=\"https://images.pexels.com/photos/235355/pexels-photo-235355.png?auto=compress&amp;cs=tinysrgb&amp;h=650&amp;w=940\" data-pin-media=\"https://images.pexels.com/photos/235355/pexels-photo-235355.png?auto=compress&amp;cs=tinysrgb&amp;fit=crop&amp;h=1200&amp;w=800\" height=\"350\" src=\"https://images.pexels.com/photos/235355/pexels-photo-235355.png?auto=compress&amp;cs=tinysrgb&amp;h=350\" srcset=\"https://images.pexels.com/photos/235355/pexels-photo-235355.png?auto=compress&amp;cs=tinysrgb&amp;h=350 1x, https://images.pexels.com/photos/235355/pexels-photo-235355.png?auto=compress&amp;cs=tinysrgb&amp;dpr=2&amp;h=350 2x\" style=\"background:rgb(104,104,104)\" width=\"525\"/>,\n",
       " <img alt=\"Victor ilunga 237\" class=\"photo-item__avatar\" height=\"30\" src=\"https://images.pexels.com/users/avatars/66236/victor-ilunga-237.jpeg?w=60&amp;h=60&amp;fit=crop&amp;crop=faces\" width=\"30\"/>,\n",
       " <img alt=\"Man Holding Smartphone Capturing Roadway\" class=\"photo-item__img\" data-big-src=\"https://images.pexels.com/photos/171933/pexels-photo-171933.jpeg?auto=compress&amp;cs=tinysrgb&amp;h=750&amp;w=1260\" data-large-src=\"https://images.pexels.com/photos/171933/pexels-photo-171933.jpeg?auto=compress&amp;cs=tinysrgb&amp;h=650&amp;w=940\" data-pin-media=\"https://images.pexels.com/photos/171933/pexels-photo-171933.jpeg?auto=compress&amp;cs=tinysrgb&amp;fit=crop&amp;h=1200&amp;w=800\" height=\"350\" src=\"https://images.pexels.com/photos/171933/pexels-photo-171933.jpeg?auto=compress&amp;cs=tinysrgb&amp;h=350\" srcset=\"https://images.pexels.com/photos/171933/pexels-photo-171933.jpeg?auto=compress&amp;cs=tinysrgb&amp;h=350 1x, https://images.pexels.com/photos/171933/pexels-photo-171933.jpeg?auto=compress&amp;cs=tinysrgb&amp;dpr=2&amp;h=350 2x\" style=\"background:rgb(101,107,107)\" width=\"525\"/>,\n",
       " <img alt=\"Kaique rocha 298\" class=\"photo-item__avatar\" height=\"30\" src=\"https://images.pexels.com/users/avatars/4672/kaique-rocha-298.jpeg?w=60&amp;h=60&amp;fit=crop&amp;crop=faces\" width=\"30\"/>]"
      ]
     },
     "execution_count": 3,
     "metadata": {},
     "output_type": "execute_result"
    }
   ],
   "source": [
    "all_Images"
   ]
  },
  {
   "cell_type": "code",
   "execution_count": null,
   "metadata": {},
   "outputs": [],
   "source": []
  }
 ],
 "metadata": {
  "kernelspec": {
   "display_name": "Python 3",
   "language": "python",
   "name": "python3"
  },
  "language_info": {
   "codemirror_mode": {
    "name": "ipython",
    "version": 3
   },
   "file_extension": ".py",
   "mimetype": "text/x-python",
   "name": "python",
   "nbconvert_exporter": "python",
   "pygments_lexer": "ipython3",
   "version": "3.6.4"
  }
 },
 "nbformat": 4,
 "nbformat_minor": 2
}
