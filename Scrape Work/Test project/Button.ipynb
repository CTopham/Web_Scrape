{
 "cells": [
  {
   "cell_type": "code",
   "execution_count": 3,
   "metadata": {},
   "outputs": [
    {
     "name": "stdout",
     "output_type": "stream",
     "text": [
      "Requirement already satisfied: ipywidgets in c:\\users\\craig\\anaconda3\\envs\\pythondata\\lib\\site-packages (7.1.1)\n",
      "Requirement already satisfied: ipykernel>=4.5.1 in c:\\users\\craig\\anaconda3\\envs\\pythondata\\lib\\site-packages (from ipywidgets) (4.8.2)\n",
      "Requirement already satisfied: traitlets>=4.3.1 in c:\\users\\craig\\anaconda3\\envs\\pythondata\\lib\\site-packages (from ipywidgets) (4.3.2)\n",
      "Requirement already satisfied: nbformat>=4.2.0 in c:\\users\\craig\\anaconda3\\envs\\pythondata\\lib\\site-packages (from ipywidgets) (4.4.0)\n",
      "Requirement already satisfied: widgetsnbextension~=3.1.0 in c:\\users\\craig\\anaconda3\\envs\\pythondata\\lib\\site-packages (from ipywidgets) (3.1.0)\n",
      "Requirement already satisfied: ipython>=4.0.0 in c:\\users\\craig\\anaconda3\\envs\\pythondata\\lib\\site-packages (from ipywidgets) (6.2.1)\n",
      "Requirement already satisfied: tornado>=4.0 in c:\\users\\craig\\anaconda3\\envs\\pythondata\\lib\\site-packages (from ipykernel>=4.5.1->ipywidgets) (4.5.3)\n",
      "Requirement already satisfied: jupyter-client in c:\\users\\craig\\anaconda3\\envs\\pythondata\\lib\\site-packages (from ipykernel>=4.5.1->ipywidgets) (5.2.2)\n",
      "Requirement already satisfied: ipython_genutils in c:\\users\\craig\\anaconda3\\envs\\pythondata\\lib\\site-packages (from traitlets>=4.3.1->ipywidgets) (0.2.0)\n",
      "Requirement already satisfied: six in c:\\users\\craig\\anaconda3\\envs\\pythondata\\lib\\site-packages (from traitlets>=4.3.1->ipywidgets) (1.11.0)\n",
      "Requirement already satisfied: decorator in c:\\users\\craig\\anaconda3\\envs\\pythondata\\lib\\site-packages (from traitlets>=4.3.1->ipywidgets) (4.2.1)\n",
      "Requirement already satisfied: jsonschema!=2.5.0,>=2.4 in c:\\users\\craig\\anaconda3\\envs\\pythondata\\lib\\site-packages (from nbformat>=4.2.0->ipywidgets) (2.6.0)\n",
      "Requirement already satisfied: jupyter_core in c:\\users\\craig\\anaconda3\\envs\\pythondata\\lib\\site-packages (from nbformat>=4.2.0->ipywidgets) (4.4.0)\n",
      "Requirement already satisfied: notebook>=4.4.1 in c:\\users\\craig\\anaconda3\\envs\\pythondata\\lib\\site-packages (from widgetsnbextension~=3.1.0->ipywidgets) (5.4.0)\n",
      "Requirement already satisfied: setuptools>=18.5 in c:\\users\\craig\\anaconda3\\envs\\pythondata\\lib\\site-packages (from ipython>=4.0.0->ipywidgets) (38.4.0)\n",
      "Requirement already satisfied: jedi>=0.10 in c:\\users\\craig\\anaconda3\\envs\\pythondata\\lib\\site-packages (from ipython>=4.0.0->ipywidgets) (0.11.1)\n",
      "Requirement already satisfied: pickleshare in c:\\users\\craig\\anaconda3\\envs\\pythondata\\lib\\site-packages (from ipython>=4.0.0->ipywidgets) (0.7.4)\n",
      "Requirement already satisfied: simplegeneric>0.8 in c:\\users\\craig\\anaconda3\\envs\\pythondata\\lib\\site-packages (from ipython>=4.0.0->ipywidgets) (0.8.1)\n",
      "Requirement already satisfied: prompt_toolkit<2.0.0,>=1.0.4 in c:\\users\\craig\\anaconda3\\envs\\pythondata\\lib\\site-packages (from ipython>=4.0.0->ipywidgets) (1.0.15)\n",
      "Requirement already satisfied: pygments in c:\\users\\craig\\anaconda3\\envs\\pythondata\\lib\\site-packages (from ipython>=4.0.0->ipywidgets) (2.2.0)\n",
      "Requirement already satisfied: colorama in c:\\users\\craig\\anaconda3\\envs\\pythondata\\lib\\site-packages (from ipython>=4.0.0->ipywidgets) (0.3.9)\n",
      "Requirement already satisfied: pyzmq>=13 in c:\\users\\craig\\anaconda3\\envs\\pythondata\\lib\\site-packages (from jupyter-client->ipykernel>=4.5.1->ipywidgets) (16.0.3)\n",
      "Requirement already satisfied: python-dateutil>=2.1 in c:\\users\\craig\\anaconda3\\envs\\pythondata\\lib\\site-packages (from jupyter-client->ipykernel>=4.5.1->ipywidgets) (2.6.1)\n",
      "Requirement already satisfied: jinja2 in c:\\users\\craig\\anaconda3\\envs\\pythondata\\lib\\site-packages (from notebook>=4.4.1->widgetsnbextension~=3.1.0->ipywidgets) (2.10)\n",
      "Requirement already satisfied: nbconvert in c:\\users\\craig\\anaconda3\\envs\\pythondata\\lib\\site-packages (from notebook>=4.4.1->widgetsnbextension~=3.1.0->ipywidgets) (5.3.1)\n",
      "Requirement already satisfied: Send2Trash in c:\\users\\craig\\anaconda3\\envs\\pythondata\\lib\\site-packages (from notebook>=4.4.1->widgetsnbextension~=3.1.0->ipywidgets) (1.4.2)\n",
      "Requirement already satisfied: terminado>=0.8.1 in c:\\users\\craig\\anaconda3\\envs\\pythondata\\lib\\site-packages (from notebook>=4.4.1->widgetsnbextension~=3.1.0->ipywidgets) (0.8.1)\n",
      "Requirement already satisfied: parso==0.1.* in c:\\users\\craig\\anaconda3\\envs\\pythondata\\lib\\site-packages (from jedi>=0.10->ipython>=4.0.0->ipywidgets) (0.1.1)\n",
      "Requirement already satisfied: wcwidth in c:\\users\\craig\\anaconda3\\envs\\pythondata\\lib\\site-packages (from prompt_toolkit<2.0.0,>=1.0.4->ipython>=4.0.0->ipywidgets) (0.1.7)\n",
      "Requirement already satisfied: MarkupSafe>=0.23 in c:\\users\\craig\\anaconda3\\envs\\pythondata\\lib\\site-packages (from jinja2->notebook>=4.4.1->widgetsnbextension~=3.1.0->ipywidgets) (1.0)\n",
      "Requirement already satisfied: mistune>=0.7.4 in c:\\users\\craig\\anaconda3\\envs\\pythondata\\lib\\site-packages (from nbconvert->notebook>=4.4.1->widgetsnbextension~=3.1.0->ipywidgets) (0.8.3)\n",
      "Requirement already satisfied: entrypoints>=0.2.2 in c:\\users\\craig\\anaconda3\\envs\\pythondata\\lib\\site-packages (from nbconvert->notebook>=4.4.1->widgetsnbextension~=3.1.0->ipywidgets) (0.2.3)\n",
      "Requirement already satisfied: bleach in c:\\users\\craig\\anaconda3\\envs\\pythondata\\lib\\site-packages (from nbconvert->notebook>=4.4.1->widgetsnbextension~=3.1.0->ipywidgets) (2.1.2)\n",
      "Requirement already satisfied: pandocfilters>=1.4.1 in c:\\users\\craig\\anaconda3\\envs\\pythondata\\lib\\site-packages (from nbconvert->notebook>=4.4.1->widgetsnbextension~=3.1.0->ipywidgets) (1.4.2)\n",
      "Requirement already satisfied: testpath in c:\\users\\craig\\anaconda3\\envs\\pythondata\\lib\\site-packages (from nbconvert->notebook>=4.4.1->widgetsnbextension~=3.1.0->ipywidgets) (0.3.1)\n",
      "Requirement already satisfied: html5lib!=1.0b1,!=1.0b2,!=1.0b3,!=1.0b4,!=1.0b5,!=1.0b6,!=1.0b7,!=1.0b8,>=0.99999999pre in c:\\users\\craig\\anaconda3\\envs\\pythondata\\lib\\site-packages (from bleach->nbconvert->notebook>=4.4.1->widgetsnbextension~=3.1.0->ipywidgets) (1.0.1)\n",
      "Requirement already satisfied: webencodings in c:\\users\\craig\\anaconda3\\envs\\pythondata\\lib\\site-packages (from html5lib!=1.0b1,!=1.0b2,!=1.0b3,!=1.0b4,!=1.0b5,!=1.0b6,!=1.0b7,!=1.0b8,>=0.99999999pre->bleach->nbconvert->notebook>=4.4.1->widgetsnbextension~=3.1.0->ipywidgets) (0.5.1)\n"
     ]
    },
    {
     "name": "stderr",
     "output_type": "stream",
     "text": [
      "Enabling notebook extension jupyter-js-widgets/extension...\n",
      "      - Validating: ok\n"
     ]
    }
   ],
   "source": [
    "!pip install ipywidgets\n",
    "!jupyter nbextension enable --py widgetsnbextension"
   ]
  },
  {
   "cell_type": "code",
   "execution_count": 4,
   "metadata": {},
   "outputs": [
    {
     "name": "stdout",
     "output_type": "stream",
     "text": [
      "['_', '_', '_', '_', '_', '_', '_', '_', '_', '_', '_']\n"
     ]
    }
   ],
   "source": [
    "\n",
    "import string\n",
    "from ipywidgets import Button, HBox, VBox\n",
    "\n",
    "\n",
    "word = 'supersecret'.lower()\n",
    "list_word = list(map(lambda x : '_' ,list(word)))\n",
    "def word_underscore(word,indexes=None):\n",
    "    if(indexes):\n",
    "        for i in indexes:\n",
    "            list_word[i[0]] = i[1]\n",
    "            print(list_word)\n",
    "            if '_' not in list_word:\n",
    "                print('Success')\n",
    "    else:\n",
    "        print(list(map(lambda x : '_' ,list(word))))\n",
    "    \n",
    "word_underscore(word)    \n",
    "\n",
    "def check_letter(b):\n",
    "    if b.description in word:\n",
    "        indexes = list(filter(lambda x: x[1]==b.description,enumerate(list(word))))\n",
    "        word_underscore(word,indexes)\n",
    "    else:\n",
    "        print('wrong')\n",
    "\n",
    "\n",
    "words = list(string.ascii_lowercase)\n",
    "items = [Button(description=w) for w in words]\n",
    "for i in items :i.on_click(check_letter)\n",
    "    \n",
    "left_box = VBox(items[0:7])\n",
    "middle = VBox(items[7:14])\n",
    "right_box = VBox(items[14:21])\n",
    "end_box = VBox(items[21:])\n",
    "#HBox([left_box,middle, right_box,end_box])"
   ]
  },
  {
   "cell_type": "code",
   "execution_count": 11,
   "metadata": {},
   "outputs": [
    {
     "name": "stderr",
     "output_type": "stream",
     "text": [
      "Enabling notebook extension jupyter-js-widgets/extension...\n",
      "      - Validating: ok\n"
     ]
    },
    {
     "data": {
      "application/vnd.jupyter.widget-view+json": {
       "model_id": "b68688b218eb42e79f34717b10e024c2",
       "version_major": 2,
       "version_minor": 0
      },
      "text/html": [
       "<p>Failed to display Jupyter Widget of type <code>Button</code>.</p>\n",
       "<p>\n",
       "  If you're reading this message in the Jupyter Notebook or JupyterLab Notebook, it may mean\n",
       "  that the widgets JavaScript is still loading. If this message persists, it\n",
       "  likely means that the widgets JavaScript library is either not installed or\n",
       "  not enabled. See the <a href=\"https://ipywidgets.readthedocs.io/en/stable/user_install.html\">Jupyter\n",
       "  Widgets Documentation</a> for setup instructions.\n",
       "</p>\n",
       "<p>\n",
       "  If you're reading this message in another frontend (for example, a static\n",
       "  rendering on GitHub or <a href=\"https://nbviewer.jupyter.org/\">NBViewer</a>),\n",
       "  it may mean that your frontend doesn't currently support widgets.\n",
       "</p>\n"
      ],
      "text/plain": [
       "Button(description='Click Me', style=ButtonStyle())"
      ]
     },
     "metadata": {},
     "output_type": "display_data"
    }
   ],
   "source": [
    "!jupyter nbextension enable --py widgetsnbextension --sys-prefix\n",
    "# !jupyter nbextension enable --py widgetsnbextension\n",
    "import string\n",
    "from ipywidgets import widgets\n",
    "\n",
    "button = widgets.Button(description=\"Click Me\")\n",
    "def on_button_click (b):\n",
    "    print(\"Hello\")\n",
    "button.on_click(on_button_click)\n",
    "button"
   ]
  },
  {
   "cell_type": "code",
   "execution_count": null,
   "metadata": {},
   "outputs": [],
   "source": []
  }
 ],
 "metadata": {
  "kernelspec": {
   "display_name": "Python 3",
   "language": "python",
   "name": "python3"
  },
  "language_info": {
   "codemirror_mode": {
    "name": "ipython",
    "version": 3
   },
   "file_extension": ".py",
   "mimetype": "text/x-python",
   "name": "python",
   "nbconvert_exporter": "python",
   "pygments_lexer": "ipython3",
   "version": "3.6.4"
  }
 },
 "nbformat": 4,
 "nbformat_minor": 2
}
